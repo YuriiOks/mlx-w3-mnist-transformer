{
 "cells": [
  {
   "cell_type": "markdown",
   "metadata": {},
   "source": [
    "# 📝 MNIST Dataset: EDA & ViT Patching Exploration 🖼️➡️🧩"
   ]
  },
  {
   "cell_type": "markdown",
   "metadata": {},
   "source": [
    "**🎯 Goal:** Perform Exploratory Data Analysis (EDA) on the standard MNIST dataset and implement the core patching + embedding mechanism for a Vision Transformer (ViT).\n",
    "\n",
    "**🚀 This Notebook Covers:**\n",
    "1.  ✅ Setup & Imports\n",
    "2.  💾 Loading MNIST Dataset\n",
    "3.  👀 Visualizing Sample Digits\n",
    "4.  ✂️ Implementing Image-to-Patch Function\n",
    "5.  🎨 Visualizing Patches\n",
    "6.  📊 Implementing Linear Patch Embedding"
   ]
  },
  {
   "cell_type": "markdown",
   "metadata": {},
   "source": [
    "## 1. Setup and Imports 🛠️🐍"
   ]
  },
  {
   "cell_type": "code",
   "execution_count": 1,
   "metadata": {},
   "outputs": [],
   "source": [
    "import os\n",
    "import sys\n",
    "import re\n",
    "import json\n",
    "from pathlib import Path\n",
    "from collections import Counter\n",
    "import random"
   ]
  },
  {
   "cell_type": "code",
   "execution_count": 2,
   "metadata": {},
   "outputs": [],
   "source": [
    "# Essential ML/Data libraries\n",
    "import torch\n",
    "import torch.nn as nn\n",
    "import torch.nn.functional as F # Often useful\n",
    "import torchvision\n",
    "import torchvision.transforms as transforms\n",
    "from torch.utils.data import DataLoader, Dataset\n",
    "\n",
    "# Visualization\n",
    "import matplotlib.pyplot as plt\n",
    "import numpy as np\n",
    "import seaborn as sns\n",
    "\n",
    "# Progress Bar\n",
    "from tqdm.notebook import tqdm # Use notebook version for better display\n"
   ]
  },
  {
   "cell_type": "code",
   "execution_count": 6,
   "metadata": {},
   "outputs": [
    {
     "name": "stdout",
     "output_type": "stream",
     "text": [
      "📂 Adding project root to sys.path: /Users/Oks_WORKSPACE/Desktop/DEV/W3_project/mlx-w3-mnist-transformer\n",
      "⚙️  Configuring Backprop Bunch logging...\n",
      "  Logger 'Backprop Bunch' level set to: INFO\n",
      "  Clearing existing handlers...\n",
      "  ✅ Console handler added.\n",
      "  ✅ File handler added: logs/mnist_transformer.log\n",
      "2025-04-28 14:46:18 | Backprop Bunch | INFO     | [logging.py:65] | 🎉 Logging system initialized!\n"
     ]
    },
    {
     "name": "stderr",
     "output_type": "stream",
     "text": [
      "INFO:Backprop Bunch:🎉 Logging system initialized!\n"
     ]
    },
    {
     "name": "stdout",
     "output_type": "stream",
     "text": [
      "\n",
      "✅ Setup Complete.\n"
     ]
    }
   ],
   "source": [
    "# --- Add project root to sys.path for imports ---\n",
    "# Assuming the notebook is run from the project root directory\n",
    "project_root = Path(os.getcwd()).parent\n",
    "src_path = project_root / 'src'\n",
    "if str(project_root) not in sys.path:\n",
    "    print(f\"📂 Adding project root to sys.path: {project_root}\")\n",
    "    sys.path.insert(0, str(project_root))\n",
    "\n",
    "# Import custom Vocabulary class and logger (Optional - if needed later, otherwise remove)\n",
    "try:\n",
    "    from utils import logger\n",
    "except ImportError as e:\n",
    "    print(f\"⚠️ Error importing project logger: {e}\")\n",
    "    print(\"   Ensure you are running this notebook from the project root directory.\")\n",
    "    # Fallback logger if utils fails\n",
    "    import logging\n",
    "    logger = logging.getLogger(\"EDA_Notebook\")\n",
    "    logging.basicConfig(level=logging.INFO)\n",
    "    logger.info(\"Using basic fallback logger.\")\n",
    "\n",
    "print(\"\\n✅ Setup Complete.\")"
   ]
  },
  {
   "cell_type": "markdown",
   "metadata": {},
   "source": [
    "## 2. Load MNIST Dataset 💾🔢"
   ]
  },
  {
   "cell_type": "markdown",
   "metadata": {},
   "source": [
    "We'll use `torchvision` to easily download and load the MNIST dataset. We'll apply standard normalization."
   ]
  },
  {
   "cell_type": "code",
   "execution_count": 7,
   "metadata": {},
   "outputs": [
    {
     "name": "stdout",
     "output_type": "stream",
     "text": [
      "2025-04-28 14:47:49 | Backprop Bunch | INFO     | [562368551.py:14] | 💾 Loading MNIST dataset (will download to '/Users/Oks_WORKSPACE/Desktop/DEV/W3_project/mlx-w3-mnist-transformer/data' if needed)...\n"
     ]
    },
    {
     "name": "stderr",
     "output_type": "stream",
     "text": [
      "INFO:Backprop Bunch:💾 Loading MNIST dataset (will download to '/Users/Oks_WORKSPACE/Desktop/DEV/W3_project/mlx-w3-mnist-transformer/data' if needed)...\n",
      "100%|██████████| 9.91M/9.91M [00:01<00:00, 7.24MB/s]\n",
      "100%|██████████| 28.9k/28.9k [00:00<00:00, 368kB/s]\n",
      "100%|██████████| 1.65M/1.65M [00:00<00:00, 2.67MB/s]\n",
      "100%|██████████| 4.54k/4.54k [00:00<00:00, 261kB/s]"
     ]
    },
    {
     "name": "stdout",
     "output_type": "stream",
     "text": [
      "2025-04-28 14:47:55 | Backprop Bunch | INFO     | [562368551.py:17] | ✅ MNIST loaded. Train size: 60000, Test size: 10000\n"
     ]
    },
    {
     "name": "stderr",
     "output_type": "stream",
     "text": [
      "\n",
      "INFO:Backprop Bunch:✅ MNIST loaded. Train size: 60000, Test size: 10000\n"
     ]
    },
    {
     "name": "stdout",
     "output_type": "stream",
     "text": [
      "2025-04-28 14:47:55 | Backprop Bunch | INFO     | [562368551.py:26] | 🚀 DataLoaders created.\n"
     ]
    },
    {
     "name": "stderr",
     "output_type": "stream",
     "text": [
      "INFO:Backprop Bunch:🚀 DataLoaders created.\n"
     ]
    }
   ],
   "source": [
    "# Define basic transforms\n",
    "# 1. Convert image to PyTorch Tensor\n",
    "# 2. Normalize pixel values using mean and std dev calculated across MNIST dataset\n",
    "transform = transforms.Compose([\n",
    "    transforms.ToTensor(),\n",
    "    transforms.Normalize((0.1307,), (0.3081,)) # MNIST specific mean/std\n",
    "])\n",
    "\n",
    "# Define data path (usually relative to project root)\n",
    "data_path = project_root / 'data'\n",
    "\n",
    "# Load MNIST dataset\n",
    "try:\n",
    "    logger.info(f\"💾 Loading MNIST dataset (will download to '{data_path}' if needed)...\")\n",
    "    train_dataset = torchvision.datasets.MNIST(root=data_path, train=True, download=True, transform=transform)\n",
    "    test_dataset = torchvision.datasets.MNIST(root=data_path, train=False, download=True, transform=transform)\n",
    "    logger.info(f\"✅ MNIST loaded. Train size: {len(train_dataset)}, Test size: {len(test_dataset)}\")\n",
    "except Exception as e:\n",
    "    logger.error(f\"❌ Failed to load MNIST: {e}\", exc_info=True)\n",
    "    train_dataset, test_dataset = None, None\n",
    "\n",
    "# Create data loaders (useful for grabbing batches easily)\n",
    "if train_dataset and test_dataset:\n",
    "    train_loader = DataLoader(train_dataset, batch_size=64, shuffle=True)\n",
    "    test_loader = DataLoader(test_dataset, batch_size=1000, shuffle=False)\n",
    "    logger.info(\"🚀 DataLoaders created.\")\n",
    "else:\n",
    "    train_loader, test_loader = None, None\n",
    "    logger.warning(\"Could not create DataLoaders as dataset failed to load.\")"
   ]
  },
  {
   "cell_type": "markdown",
   "metadata": {},
   "source": [
    "## 3. Visualize Sample Digits 👀"
   ]
  },
  {
   "cell_type": "code",
   "execution_count": 8,
   "metadata": {},
   "outputs": [],
   "source": [
    "# Helper function to display images\n",
    "def imshow(img_tensor, title=''):\n",
    "    # Reverse the normalization for display purposes\n",
    "    mean = torch.tensor([0.1307])\n",
    "    std = torch.tensor([0.3081])\n",
    "    img_tensor = img_tensor * std[:, None, None] + mean[:, None, None]\n",
    "    \n",
    "    # Clamp values to [0, 1] range\n",
    "    img_tensor = torch.clamp(img_tensor, 0, 1)\n",
    "    \n",
    "    # Convert to numpy for plotting\n",
    "    npimg = img_tensor.numpy()\n",
    "    \n",
    "    # Plot\n",
    "    plt.imshow(np.squeeze(npimg), cmap='gray') # Use np.squeeze for grayscale\n",
    "    plt.title(title)\n",
    "    plt.axis('off') # Hide axes for cleaner look\n"
   ]
  },
  {
   "cell_type": "code",
   "execution_count": null,
   "metadata": {},
   "outputs": [],
   "source": [
    "# Get a batch of training images\n",
    "sample_image = None # Initialize in case loader failed\n",
    "sample_label = None"
   ]
  },
  {
   "cell_type": "code",
   "execution_count": 10,
   "metadata": {},
   "outputs": [
    {
     "name": "stdout",
     "output_type": "stream",
     "text": [
      "2025-04-28 14:48:26 | Backprop Bunch | INFO     | [1436535450.py:6] | 👀 Displaying sample MNIST digits:\n"
     ]
    },
    {
     "name": "stderr",
     "output_type": "stream",
     "text": [
      "INFO:Backprop Bunch:👀 Displaying sample MNIST digits:\n"
     ]
    },
    {
     "data": {
      "image/png": "[encoded data removed]",
      "text/plain": [
       "<Figure size 1200x400 with 8 Axes>"
      ]
     },
     "metadata": {},
     "output_type": "display_data"
    },
    {
     "name": "stdout",
     "output_type": "stream",
     "text": [
      "2025-04-28 14:48:26 | Backprop Bunch | INFO     | [1436535450.py:21] | 💾 Selected one image (Label: 3) for patching demonstration.\n"
     ]
    },
    {
     "name": "stderr",
     "output_type": "stream",
     "text": [
      "INFO:Backprop Bunch:💾 Selected one image (Label: 3) for patching demonstration.\n"
     ]
    }
   ],
   "source": [
    "if train_loader:\n",
    "    dataiter = iter(train_loader)\n",
    "    images, labels = next(dataiter)\n",
    "\n",
    "    # Show images\n",
    "    logger.info(\"👀 Displaying sample MNIST digits:\")\n",
    "    num_images_to_show = 8\n",
    "    plt.figure(figsize=(12, 4)) # Adjust figure size \n",
    "    for i in range(num_images_to_show):\n",
    "        if i >= len(images):\n",
    "             break # Handle smaller batches\n",
    "        plt.subplot(1, num_images_to_show, i+1)\n",
    "        imshow(images[i], title=f\"Label: {labels[i].item()}\")\n",
    "    plt.tight_layout()\n",
    "    plt.show()\n",
    "\n",
    "    # Keep one image for the patching example\n",
    "    if len(images) > 0:\n",
    "        sample_image = images[0]\n",
    "        sample_label = labels[0]\n",
    "        logger.info(f\"💾 Selected one image (Label: {sample_label.item()}) for patching demonstration.\")\n",
    "else:\n",
    "    logger.warning(\"🤷 Train loader not available, cannot visualize samples or select one for patching.\")\n"
   ]
  },
  {
   "cell_type": "markdown",
   "metadata": {},
   "source": [
    "## 4. Patching Implementation ✂️🧩"
   ]
  },
  {
   "cell_type": "markdown",
   "metadata": {},
   "source": [
    "Now, the core idea of ViT: splitting the image into non-overlapping patches. For a 28x28 MNIST image and a 7x7 patch size, we expect (28/7) x (28/7) = 4x4 = 16 patches. Each patch will be 7x7 pixels (and 1 channel for grayscale)."
   ]
  },
  {
   "cell_type": "code",
   "execution_count": 11,
   "metadata": {},
   "outputs": [],
   "source": [
    "def image_to_patches(image_tensor: torch.Tensor, patch_size: int = 7) -> torch.Tensor:\n",
    "    \"\"\"\n",
    "    Splits a single image tensor (C, H, W) into a sequence of flattened patches.\n",
    "    Uses torch.Tensor.unfold for efficient patching.\n",
    "\n",
    "    Args:\n",
    "        image_tensor (torch.Tensor): Input image tensor (e.g., 1x28x28 for MNIST).\n",
    "        patch_size (int): The height and width of each square patch.\n",
    "\n",
    "    Returns:\n",
    "        torch.Tensor: Tensor of flattened patches (NumPatches, PatchDim).\n",
    "                    Returns empty tensor if input is invalid.\n",
    "    \"\"\"\n",
    "    # Basic validation\n",
    "    if not isinstance(image_tensor, torch.Tensor) or image_tensor.ndim != 3:\n",
    "        logger.error(f\"❌ Invalid input: Expected a 3D tensor (C, H, W), got {image_tensor.shape if isinstance(image_tensor, torch.Tensor) else type(image_tensor)}\")\n",
    "        return torch.empty(0)\n",
    "        \n",
    "    c, h, w = image_tensor.shape\n",
    "    if h % patch_size != 0 or w % patch_size != 0:\n",
    "        logger.error(f\"❌ Image dimensions ({h}x{w}) must be divisible by patch_size ({patch_size}).\")\n",
    "        return torch.empty(0)\n",
    "\n",
    "    num_patches_h = h // patch_size\n",
    "    num_patches_w = w // patch_size\n",
    "    num_patches = num_patches_h * num_patches_w\n",
    "    patch_dim = c * patch_size * patch_size\n",
    "\n",
    "    logger.debug(f\"Input image shape: {image_tensor.shape}\")\n",
    "    logger.debug(f\"Patch size: {patch_size}x{patch_size}\")\n",
    "    logger.debug(f\"Calculated num_patches: {num_patches} ({num_patches_h}x{num_patches_w})\")\n",
    "    logger.debug(f\"Calculated patch_dim (flattened): {patch_dim}\")\n",
    "\n",
    "    try:\n",
    "        # Use unfold to extract patches. unfold(dimension, size, step)\n",
    "        # Unfold height, then width\n",
    "        patches = image_tensor.unfold(1, patch_size, patch_size).unfold(2, patch_size, patch_size)\n",
    "        # Current shape: (C, NumPatchesH, NumPatchesW, PatchH, PatchW)\n",
    "        logger.debug(f\"Shape after unfold: {patches.shape}\")\n",
    "\n",
    "        # Permute and reshape to get (NumPatches, C, PatchH, PatchW)\n",
    "        patches = patches.permute(1, 2, 0, 3, 4).contiguous()\n",
    "        # Shape: (NumPatchesH, NumPatchesW, C, PatchH, PatchW)\n",
    "        logger.debug(f\"Shape after permute: {patches.shape}\")\n",
    "        \n",
    "        # Reshape to (NumPatches, PatchDim) by flattening C, PatchH, PatchW\n",
    "        patches = patches.view(num_patches, patch_dim)\n",
    "        # Shape: (NumPatches, C * PatchH * PatchW)\n",
    "\n",
    "        logger.debug(f\"✅ Output patches shape: {patches.shape}\") # Should be (16, 49) for MNIST 7x7\n",
    "        return patches\n",
    "    except Exception as e:\n",
    "        logger.error(f\"❌ Error during patching: {e}\", exc_info=True)\n",
    "        return torch.empty(0)\n"
   ]
  },
  {
   "cell_type": "code",
   "execution_count": 12,
   "metadata": {},
   "outputs": [
    {
     "name": "stdout",
     "output_type": "stream",
     "text": [
      "2025-04-28 14:48:44 | Backprop Bunch | INFO     | [2428247436.py:4] | ⚙️ Testing image_to_patches function...\n"
     ]
    },
    {
     "name": "stderr",
     "output_type": "stream",
     "text": [
      "INFO:Backprop Bunch:⚙️ Testing image_to_patches function...\n"
     ]
    },
    {
     "name": "stdout",
     "output_type": "stream",
     "text": [
      "2025-04-28 14:48:44 | Backprop Bunch | INFO     | [2428247436.py:7] | ✅ Successfully created patches tensor with shape: torch.Size([16, 49])\n"
     ]
    },
    {
     "name": "stderr",
     "output_type": "stream",
     "text": [
      "INFO:Backprop Bunch:✅ Successfully created patches tensor with shape: torch.Size([16, 49])\n"
     ]
    }
   ],
   "source": [
    "# --- Test the function --- \n",
    "patches_tensor = None # Initialize\n",
    "if sample_image is not None:\n",
    "    logger.info(\"⚙️ Testing image_to_patches function...\")\n",
    "    patches_tensor = image_to_patches(sample_image, patch_size=7)\n",
    "    if patches_tensor.nelement() > 0: # Check if tensor is not empty\n",
    "        logger.info(f\"✅ Successfully created patches tensor with shape: {patches_tensor.shape}\")\n",
    "    else:\n",
    "        logger.warning(\"⚠️ Patch tensor is empty, likely due to previous errors.\")\n",
    "else:\n",
    "     logger.warning(\"🤷 No sample image available to test patching.\")"
   ]
  },
  {
   "cell_type": "markdown",
   "metadata": {},
   "source": [
    "## 5. Visualize Patches 🎨"
   ]
  },
  {
   "cell_type": "code",
   "execution_count": 13,
   "metadata": {},
   "outputs": [
    {
     "name": "stdout",
     "output_type": "stream",
     "text": [
      "2025-04-28 14:48:49 | Backprop Bunch | INFO     | [3373689613.py:2] | 🎨 Visualizing the 16 generated patches (reshaped):\n"
     ]
    },
    {
     "name": "stderr",
     "output_type": "stream",
     "text": [
      "INFO:Backprop Bunch:🎨 Visualizing the 16 generated patches (reshaped):\n"
     ]
    },
    {
     "data": {
      "image/png": "[encoded data removed]",
      "text/plain": [
       "<Figure size 400x450 with 16 Axes>"
      ]
     },
     "metadata": {},
     "output_type": "display_data"
    }
   ],
   "source": [
    "if patches_tensor is not None and patches_tensor.nelement() > 0:\n",
    "    logger.info(f\"🎨 Visualizing the {patches_tensor.shape[0]} generated patches (reshaped):\")\n",
    "    try:\n",
    "        num_patches = patches_tensor.shape[0]\n",
    "        patch_dim = patches_tensor.shape[1]\n",
    "        # Assuming square patches and single channel (MNIST)\n",
    "        patch_size = int(patch_dim**0.5) \n",
    "        num_patches_side = int(num_patches**0.5) \n",
    "        \n",
    "        if num_patches_side * num_patches_side != num_patches or patch_size * patch_size != patch_dim:\n",
    "             raise ValueError(\"Cannot determine square layout for patches.\")\n",
    "\n",
    "        plt.figure(figsize=(num_patches_side, num_patches_side + 0.5)) # Adjust size\n",
    "        plt.suptitle(f\"Visualized Patches for Digit '{sample_label.item()}'\", y=1.02)\n",
    "        for i, patch_flat in enumerate(patches_tensor):\n",
    "            plt.subplot(num_patches_side, num_patches_side, i + 1)\n",
    "            # Reshape flattened patch back to image format (1, P, P)\n",
    "            patch_img = patch_flat.view(1, patch_size, patch_size)\n",
    "            \n",
    "            # Display the patch (no need to unnormalize, as we took it *before* imshow unnormalized)\n",
    "            plt.imshow(patch_img.squeeze().numpy(), cmap='gray')\n",
    "            plt.axis('off')\n",
    "        plt.tight_layout(rect=[0, 0.03, 1, 0.98]) # Adjust layout\n",
    "        plt.show()\n",
    "    except Exception as e:\n",
    "        logger.error(f\"❌ Failed to visualize patches: {e}\")\n",
    "else:\n",
    "    logger.warning(\"🤷 Patch tensor not available or empty for visualization.\")"
   ]
  },
  {
   "cell_type": "markdown",
   "metadata": {},
   "source": [
    "## 6. Linear Patch Embedding 📊✨"
   ]
  },
  {
   "cell_type": "markdown",
   "metadata": {},
   "source": [
    "Now, we project each flattened patch vector (size 7x7 = 49) into a higher-dimensional embedding space (e.g., 64 dimensions) using a simple Linear layer. This is the first step in preparing the patches for the Transformer Encoder."
   ]
  },
  {
   "cell_type": "code",
   "execution_count": 14,
   "metadata": {},
   "outputs": [
    {
     "name": "stdout",
     "output_type": "stream",
     "text": [
      "2025-04-28 14:48:57 | Backprop Bunch | INFO     | [957879427.py:6] | ⚙️ Creating Linear layer to embed patches: 49 -> 64 dimensions.\n"
     ]
    },
    {
     "name": "stderr",
     "output_type": "stream",
     "text": [
      "INFO:Backprop Bunch:⚙️ Creating Linear layer to embed patches: 49 -> 64 dimensions.\n"
     ]
    },
    {
     "name": "stdout",
     "output_type": "stream",
     "text": [
      "2025-04-28 14:48:57 | Backprop Bunch | INFO     | [957879427.py:10] | Embedding Layer: Linear(in_features=49, out_features=64, bias=True)\n"
     ]
    },
    {
     "name": "stderr",
     "output_type": "stream",
     "text": [
      "INFO:Backprop Bunch:Embedding Layer: Linear(in_features=49, out_features=64, bias=True)\n"
     ]
    },
    {
     "name": "stdout",
     "output_type": "stream",
     "text": [
      "2025-04-28 14:48:57 | Backprop Bunch | INFO     | [957879427.py:16] | ✅ Shape after embedding: torch.Size([1, 16, 64])\n"
     ]
    },
    {
     "name": "stderr",
     "output_type": "stream",
     "text": [
      "INFO:Backprop Bunch:✅ Shape after embedding: torch.Size([1, 16, 64])\n"
     ]
    },
    {
     "name": "stdout",
     "output_type": "stream",
     "text": [
      "\n",
      "🔬 Sample embedding vector (first patch, first 10 values):\n",
      "[ 0.24040817  0.10694408  0.09202305  0.25400162 -0.07495159  0.2716779\n",
      " -0.19218512 -0.50649714 -0.03054794  0.0562887 ]\n"
     ]
    }
   ],
   "source": [
    "if patches_tensor is not None and patches_tensor.nelement() > 0:\n",
    "    patch_dim = patches_tensor.shape[1] # Should be 49\n",
    "    embedding_dim = 64 # Example embedding dim from our ViT plan\n",
    "    num_patches = patches_tensor.shape[0] # Should be 16\n",
    "    \n",
    "    logger.info(f\"⚙️ Creating Linear layer to embed patches: {patch_dim} -> {embedding_dim} dimensions.\")\n",
    "\n",
    "    # Create the embedding layer\n",
    "    patch_embed_layer = nn.Linear(patch_dim, embedding_dim)\n",
    "    logger.info(f\"Embedding Layer: {patch_embed_layer}\")\n",
    "\n",
    "    # Embed the patches. Input shape for Linear: (Batch, *, InFeatures)\n",
    "    # Our patches_tensor is (NumPatches, PatchDim). Add a batch dim [1, N, P_dim].\n",
    "    try:\n",
    "        patch_embeddings = patch_embed_layer(patches_tensor.unsqueeze(0)) # Add batch dim\n",
    "        logger.info(f\"✅ Shape after embedding: {patch_embeddings.shape}\") # Should be (1, 16, 64)\n",
    "\n",
    "        print(\"\\n🔬 Sample embedding vector (first patch, first 10 values):\")\n",
    "        print(patch_embeddings[0, 0, :10].detach().numpy()) # Print embedding of the first patch\n",
    "    except Exception as e:\n",
    "        logger.error(f\"❌ Error during embedding: {e}\", exc_info=True)\n",
    "        \n",
    "else:\n",
    "    logger.warning(\"🤷 Patch tensor not available or empty for embedding test.\")"
   ]
  },
  {
   "cell_type": "markdown",
   "metadata": {},
   "source": [
    "## 7. Conclusion & Next Steps ✅🚀\n",
    "\n",
    "We have successfully:\n",
    "*   Loaded the MNIST dataset.\n",
    "*   Visualized sample digits.\n",
    "*   Implemented a function to split images into patches.\n",
    "*   Visualized the resulting patches.\n",
    "*   Implemented a linear layer to create patch embeddings.\n",
    "\n",
    "This notebook confirms our understanding of the initial data processing steps for ViT. The next steps involve building the full ViT architecture (`PatchEmbedding` class, Positional Embeddings, Transformer Encoder blocks, MLP Head) in the `src/` directory."
   ]
  }
 ],
 "metadata": {
  "kernelspec": {
   "display_name": ".venv",
   "language": "python",
   "name": "python3"
  },
  "language_info": {
   "codemirror_mode": {
    "name": "ipython",
    "version": 3
   },
   "file_extension": ".py",
   "mimetype": "text/x-python",
   "name": "python",
   "nbconvert_exporter": "python",
   "pygments_lexer": "ipython3",
   "version": "3.11.11"
  }
 },
 "nbformat": 4,
 "nbformat_minor": 2
}
